{
 "cells": [
  {
   "cell_type": "markdown",
   "metadata": {},
   "source": [
    "### Комбинаторика в Питоне"
   ]
  },
  {
   "cell_type": "markdown",
   "metadata": {},
   "source": [
    "#### `np.random.shuffle()` и `np.random.permutation()`"
   ]
  },
  {
   "cell_type": "code",
   "execution_count": null,
   "metadata": {},
   "outputs": [
    {
     "name": "stdout",
     "output_type": "stream",
     "text": [
      "None [3 5 4 1 2]\n"
     ]
    }
   ],
   "source": [
    "# создадим массив и передадим его в функцию np.random.shuffle()\n",
    "arr = np.array([1, 2, 3, 4, 5])\n",
    "\n",
    "# сама функция выдала None, исходный массив при этом изменился\n",
    "print(np.random.shuffle(arr), arr)"
   ]
  },
  {
   "cell_type": "code",
   "execution_count": null,
   "metadata": {},
   "outputs": [
    {
     "data": {
      "text/plain": [
       "(array([1, 2, 3, 5, 4]), array([1, 2, 3, 4, 5]))"
      ]
     },
     "metadata": {},
     "output_type": "display_data"
    }
   ],
   "source": [
    "# еще раз создадим массив\n",
    "arr = np.array([1, 2, 3, 4, 5])\n",
    "\n",
    "# передав его в np.random.permutation(),\n",
    "# мы получим перемешанную копию и исходный массив без изменений\n",
    "np.random.permutation(arr), arr"
   ]
  },
  {
   "cell_type": "markdown",
   "metadata": {},
   "source": [
    "Функция для разделения на обучающую и тестовую выборки"
   ]
  },
  {
   "cell_type": "code",
   "execution_count": null,
   "metadata": {},
   "outputs": [],
   "source": [
    "# объявим функцию, которая принимает признаки X и целевую переменную y в формате\n",
    "# массива Numpy или датафрейма\n",
    "# дополнительно пропишем размер тестовой выборки с параметром по умолчанию 0,3\n",
    "# и возможностью задать точку отсчета\n",
    "def split_data(X, y, test_size = 0.3, random_state = None):\n",
    "\n",
    "  # проверим, является ли X массивом Numpy с помощью функции isinstance()\n",
    "  if isinstance(X, np.ndarray):\n",
    "    # если да, превратим в датафрейм\n",
    "    X = pd.DataFrame(X)\n",
    "  # сделаем то же самое для y\n",
    "  if isinstance(y, np.ndarray):\n",
    "    y = pd.DataFrame(y)\n",
    "\n",
    "  # еще один способ выполнить такую проверку\n",
    "  # if type(X). __module__ == np. __name__:\n",
    "  #   X = pd.DataFrame(X)\n",
    "  # if type(y). __module__ == np. __name__:\n",
    "  #   y = pd.DataFrame(y)\n",
    "\n",
    "  # установим точку отсчета\n",
    "  np.random.seed(random_state)\n",
    "\n",
    "  # перемешаем индексы строк датасета X, не изменяя исходный массив\n",
    "  indices = np.random.permutation(len(X))\n",
    "\n",
    "  # определим количество строк, которые войдут в тестовую выборку\n",
    "  # для этого умножим количество строк в X на долю тестовой выборки\n",
    "  data_test_size = int(X.shape[0] * test_size)\n",
    "\n",
    "  # начиная с этого количества (границы), будет обучающая выборка\n",
    "  train_indices = indices[data_test_size:]\n",
    "  # перед ним, тестовая\n",
    "  test_indices = indices[:data_test_size]\n",
    "\n",
    "  # с помощью метода .iloc() найдем в X все строки,\n",
    "  # соответствующие индексам в переменных train_indices и test_indices\n",
    "  X_train = X.iloc[train_indices]\n",
    "  X_test = X.iloc[test_indices]\n",
    "\n",
    "  # сделаем то же самое для y\n",
    "  y_train = y.iloc[train_indices]\n",
    "  y_test = y.iloc[test_indices]\n",
    "\n",
    "  # выведем выборки в том порядке, в котором они выводятся в sklearn\n",
    "  return X_train, X_test, y_train, y_test"
   ]
  },
  {
   "cell_type": "code",
   "execution_count": null,
   "metadata": {},
   "outputs": [],
   "source": [
    "import pandas as pd\n",
    "\n",
    "# импортируем данные о пациентах с диабетом\n",
    "from sklearn.datasets import load_diabetes\n",
    "\n",
    "# помещаем их в переменную data\n",
    "data = load_diabetes()\n",
    "\n",
    "# создаем два датафрейма\n",
    "X = pd.DataFrame(data.data, columns = data.feature_names)\n",
    "y = pd.DataFrame(data.target, columns = ['target'])\n",
    "\n",
    "# для проверки работы функции можно также создать массивы Numpy\n",
    "# X = data.data\n",
    "# y = data.target"
   ]
  },
  {
   "cell_type": "code",
   "execution_count": null,
   "metadata": {},
   "outputs": [],
   "source": [
    "# вызовем функцию split_data()\n",
    "X_train, X_test, y_train, y_test = split_data(X, y, random_state = 42)"
   ]
  },
  {
   "cell_type": "code",
   "execution_count": null,
   "metadata": {},
   "outputs": [
    {
     "data": {
      "application/vnd.google.colaboratory.intrinsic+json": {
       "summary": "{\n  \"name\": \"X_train\",\n  \"rows\": 310,\n  \"fields\": [\n    {\n      \"column\": \"age\",\n      \"properties\": {\n        \"dtype\": \"number\",\n        \"std\": 0.04624416372268191,\n        \"min\": -0.1072256316073538,\n        \"max\": 0.11072667545381144,\n        \"num_unique_values\": 56,\n        \"samples\": [\n          0.01991321417832592,\n          0.001750521923228816,\n          0.0526060602375007\n        ],\n        \"semantic_type\": \"\",\n        \"description\": \"\"\n      }\n    },\n    {\n      \"column\": \"sex\",\n      \"properties\": {\n        \"dtype\": \"number\",\n        \"std\": 0.04767430973936395,\n        \"min\": -0.044641636506989144,\n        \"max\": 0.05068011873981862,\n        \"num_unique_values\": 2,\n        \"samples\": [\n          -0.044641636506989144,\n          0.05068011873981862\n        ],\n        \"semantic_type\": \"\",\n        \"description\": \"\"\n      }\n    },\n    {\n      \"column\": \"bmi\",\n      \"properties\": {\n        \"dtype\": \"number\",\n        \"std\": 0.04803847952651701,\n        \"min\": -0.08919748382462865,\n        \"max\": 0.16085491731571683,\n        \"num_unique_values\": 144,\n        \"samples\": [\n          0.12528711887765046,\n          0.12852055509929283\n        ],\n        \"semantic_type\": \"\",\n        \"description\": \"\"\n      }\n    },\n    {\n      \"column\": \"bp\",\n      \"properties\": {\n        \"dtype\": \"number\",\n        \"std\": 0.04795373387667055,\n        \"min\": -0.11239880254408448,\n        \"max\": 0.13204361674121307,\n        \"num_unique_values\": 88,\n        \"samples\": [\n          -0.0079771324465764,\n          0.029894228287765473\n        ],\n        \"semantic_type\": \"\",\n        \"description\": \"\"\n      }\n    },\n    {\n      \"column\": \"s1\",\n      \"properties\": {\n        \"dtype\": \"number\",\n        \"std\": 0.048098793035097696,\n        \"min\": -0.10889328275989867,\n        \"max\": 0.15391371315651542,\n        \"num_unique_values\": 127,\n        \"samples\": [\n          0.027326050202012293,\n          0.04246153164222462\n        ],\n        \"semantic_type\": \"\",\n        \"description\": \"\"\n      }\n    },\n    {\n      \"column\": \"s2\",\n      \"properties\": {\n        \"dtype\": \"number\",\n        \"std\": 0.04797265440247244,\n        \"min\": -0.11561306597939897,\n        \"max\": 0.19878798965729408,\n        \"num_unique_values\": 237,\n        \"samples\": [\n          -0.05768060054833501,\n          0.056618588004845226\n        ],\n        \"semantic_type\": \"\",\n        \"description\": \"\"\n      }\n    },\n    {\n      \"column\": \"s3\",\n      \"properties\": {\n        \"dtype\": \"number\",\n        \"std\": 0.047543865874823885,\n        \"min\": -0.10230705051741597,\n        \"max\": 0.18117906039727852,\n        \"num_unique_values\": 59,\n        \"samples\": [\n          -0.07285394808472044,\n          0.04864009945014862\n        ],\n        \"semantic_type\": \"\",\n        \"description\": \"\"\n      }\n    },\n    {\n      \"column\": \"s4\",\n      \"properties\": {\n        \"dtype\": \"number\",\n        \"std\": 0.04849965435665684,\n        \"min\": -0.0763945037500033,\n        \"max\": 0.18523444326019867,\n        \"num_unique_values\": 47,\n        \"samples\": [\n          0.0007288388806486174,\n          0.005156973385757823\n        ],\n        \"semantic_type\": \"\",\n        \"description\": \"\"\n      }\n    },\n    {\n      \"column\": \"s5\",\n      \"properties\": {\n        \"dtype\": \"number\",\n        \"std\": 0.04795850542927001,\n        \"min\": -0.10436552421115437,\n        \"max\": 0.13359728192191356,\n        \"num_unique_values\": 155,\n        \"samples\": [\n          -0.09643494994048712,\n          0.028658464676026615\n        ],\n        \"semantic_type\": \"\",\n        \"description\": \"\"\n      }\n    },\n    {\n      \"column\": \"s6\",\n      \"properties\": {\n        \"dtype\": \"number\",\n        \"std\": 0.047981737827766734,\n        \"min\": -0.13776722569000302,\n        \"max\": 0.13561183068907107,\n        \"num_unique_values\": 55,\n        \"samples\": [\n          0.007206516329202944,\n          0.09833286845556097\n        ],\n        \"semantic_type\": \"\",\n        \"description\": \"\"\n      }\n    }\n  ]\n}",
       "type": "dataframe",
       "variable_name": "X_train"
      },
      "text/html": [
       "\n",
       "  <div id=\"df-50d48902-e7b7-4966-bb06-cb9612377c96\" class=\"colab-df-container\">\n",
       "    <div>\n",
       "<style scoped>\n",
       "    .dataframe tbody tr th:only-of-type {\n",
       "        vertical-align: middle;\n",
       "    }\n",
       "\n",
       "    .dataframe tbody tr th {\n",
       "        vertical-align: top;\n",
       "    }\n",
       "\n",
       "    .dataframe thead th {\n",
       "        text-align: right;\n",
       "    }\n",
       "</style>\n",
       "<table border=\"1\" class=\"dataframe\">\n",
       "  <thead>\n",
       "    <tr style=\"text-align: right;\">\n",
       "      <th></th>\n",
       "      <th>age</th>\n",
       "      <th>sex</th>\n",
       "      <th>bmi</th>\n",
       "      <th>bp</th>\n",
       "      <th>s1</th>\n",
       "      <th>s2</th>\n",
       "      <th>s3</th>\n",
       "      <th>s4</th>\n",
       "      <th>s5</th>\n",
       "      <th>s6</th>\n",
       "    </tr>\n",
       "  </thead>\n",
       "  <tbody>\n",
       "    <tr>\n",
       "      <th>108</th>\n",
       "      <td>0.019913</td>\n",
       "      <td>0.050680</td>\n",
       "      <td>0.045529</td>\n",
       "      <td>0.029894</td>\n",
       "      <td>-0.062111</td>\n",
       "      <td>-0.055802</td>\n",
       "      <td>-0.072854</td>\n",
       "      <td>0.026929</td>\n",
       "      <td>0.045604</td>\n",
       "      <td>0.040343</td>\n",
       "    </tr>\n",
       "    <tr>\n",
       "      <th>225</th>\n",
       "      <td>0.030811</td>\n",
       "      <td>0.050680</td>\n",
       "      <td>0.032595</td>\n",
       "      <td>0.049415</td>\n",
       "      <td>-0.040096</td>\n",
       "      <td>-0.043589</td>\n",
       "      <td>-0.069172</td>\n",
       "      <td>0.034309</td>\n",
       "      <td>0.063015</td>\n",
       "      <td>0.003064</td>\n",
       "    </tr>\n",
       "    <tr>\n",
       "      <th>412</th>\n",
       "      <td>0.074401</td>\n",
       "      <td>-0.044642</td>\n",
       "      <td>0.085408</td>\n",
       "      <td>0.063187</td>\n",
       "      <td>0.014942</td>\n",
       "      <td>0.013091</td>\n",
       "      <td>0.015505</td>\n",
       "      <td>-0.002592</td>\n",
       "      <td>0.006207</td>\n",
       "      <td>0.085907</td>\n",
       "    </tr>\n",
       "  </tbody>\n",
       "</table>\n",
       "</div>\n",
       "    <div class=\"colab-df-buttons\">\n",
       "\n",
       "  <div class=\"colab-df-container\">\n",
       "    <button class=\"colab-df-convert\" onclick=\"convertToInteractive('df-50d48902-e7b7-4966-bb06-cb9612377c96')\"\n",
       "            title=\"Convert this dataframe to an interactive table.\"\n",
       "            style=\"display:none;\">\n",
       "\n",
       "  <svg xmlns=\"http://www.w3.org/2000/svg\" height=\"24px\" viewBox=\"0 -960 960 960\">\n",
       "    <path d=\"M120-120v-720h720v720H120Zm60-500h600v-160H180v160Zm220 220h160v-160H400v160Zm0 220h160v-160H400v160ZM180-400h160v-160H180v160Zm440 0h160v-160H620v160ZM180-180h160v-160H180v160Zm440 0h160v-160H620v160Z\"/>\n",
       "  </svg>\n",
       "    </button>\n",
       "\n",
       "  <style>\n",
       "    .colab-df-container {\n",
       "      display:flex;\n",
       "      gap: 12px;\n",
       "    }\n",
       "\n",
       "    .colab-df-convert {\n",
       "      background-color: #E8F0FE;\n",
       "      border: none;\n",
       "      border-radius: 50%;\n",
       "      cursor: pointer;\n",
       "      display: none;\n",
       "      fill: #1967D2;\n",
       "      height: 32px;\n",
       "      padding: 0 0 0 0;\n",
       "      width: 32px;\n",
       "    }\n",
       "\n",
       "    .colab-df-convert:hover {\n",
       "      background-color: #E2EBFA;\n",
       "      box-shadow: 0px 1px 2px rgba(60, 64, 67, 0.3), 0px 1px 3px 1px rgba(60, 64, 67, 0.15);\n",
       "      fill: #174EA6;\n",
       "    }\n",
       "\n",
       "    .colab-df-buttons div {\n",
       "      margin-bottom: 4px;\n",
       "    }\n",
       "\n",
       "    [theme=dark] .colab-df-convert {\n",
       "      background-color: #3B4455;\n",
       "      fill: #D2E3FC;\n",
       "    }\n",
       "\n",
       "    [theme=dark] .colab-df-convert:hover {\n",
       "      background-color: #434B5C;\n",
       "      box-shadow: 0px 1px 3px 1px rgba(0, 0, 0, 0.15);\n",
       "      filter: drop-shadow(0px 1px 2px rgba(0, 0, 0, 0.3));\n",
       "      fill: #FFFFFF;\n",
       "    }\n",
       "  </style>\n",
       "\n",
       "    <script>\n",
       "      const buttonEl =\n",
       "        document.querySelector('#df-50d48902-e7b7-4966-bb06-cb9612377c96 button.colab-df-convert');\n",
       "      buttonEl.style.display =\n",
       "        google.colab.kernel.accessAllowed ? 'block' : 'none';\n",
       "\n",
       "      async function convertToInteractive(key) {\n",
       "        const element = document.querySelector('#df-50d48902-e7b7-4966-bb06-cb9612377c96');\n",
       "        const dataTable =\n",
       "          await google.colab.kernel.invokeFunction('convertToInteractive',\n",
       "                                                    [key], {});\n",
       "        if (!dataTable) return;\n",
       "\n",
       "        const docLinkHtml = 'Like what you see? Visit the ' +\n",
       "          '<a target=\"_blank\" href=https://colab.research.google.com/notebooks/data_table.ipynb>data table notebook</a>'\n",
       "          + ' to learn more about interactive tables.';\n",
       "        element.innerHTML = '';\n",
       "        dataTable['output_type'] = 'display_data';\n",
       "        await google.colab.output.renderOutput(dataTable, element);\n",
       "        const docLink = document.createElement('div');\n",
       "        docLink.innerHTML = docLinkHtml;\n",
       "        element.appendChild(docLink);\n",
       "      }\n",
       "    </script>\n",
       "  </div>\n",
       "\n",
       "\n",
       "<div id=\"df-d350cd6f-040c-459c-a8a5-6c1eff9c2558\">\n",
       "  <button class=\"colab-df-quickchart\" onclick=\"quickchart('df-d350cd6f-040c-459c-a8a5-6c1eff9c2558')\"\n",
       "            title=\"Suggest charts\"\n",
       "            style=\"display:none;\">\n",
       "\n",
       "<svg xmlns=\"http://www.w3.org/2000/svg\" height=\"24px\"viewBox=\"0 0 24 24\"\n",
       "     width=\"24px\">\n",
       "    <g>\n",
       "        <path d=\"M19 3H5c-1.1 0-2 .9-2 2v14c0 1.1.9 2 2 2h14c1.1 0 2-.9 2-2V5c0-1.1-.9-2-2-2zM9 17H7v-7h2v7zm4 0h-2V7h2v10zm4 0h-2v-4h2v4z\"/>\n",
       "    </g>\n",
       "</svg>\n",
       "  </button>\n",
       "\n",
       "<style>\n",
       "  .colab-df-quickchart {\n",
       "      --bg-color: #E8F0FE;\n",
       "      --fill-color: #1967D2;\n",
       "      --hover-bg-color: #E2EBFA;\n",
       "      --hover-fill-color: #174EA6;\n",
       "      --disabled-fill-color: #AAA;\n",
       "      --disabled-bg-color: #DDD;\n",
       "  }\n",
       "\n",
       "  [theme=dark] .colab-df-quickchart {\n",
       "      --bg-color: #3B4455;\n",
       "      --fill-color: #D2E3FC;\n",
       "      --hover-bg-color: #434B5C;\n",
       "      --hover-fill-color: #FFFFFF;\n",
       "      --disabled-bg-color: #3B4455;\n",
       "      --disabled-fill-color: #666;\n",
       "  }\n",
       "\n",
       "  .colab-df-quickchart {\n",
       "    background-color: var(--bg-color);\n",
       "    border: none;\n",
       "    border-radius: 50%;\n",
       "    cursor: pointer;\n",
       "    display: none;\n",
       "    fill: var(--fill-color);\n",
       "    height: 32px;\n",
       "    padding: 0;\n",
       "    width: 32px;\n",
       "  }\n",
       "\n",
       "  .colab-df-quickchart:hover {\n",
       "    background-color: var(--hover-bg-color);\n",
       "    box-shadow: 0 1px 2px rgba(60, 64, 67, 0.3), 0 1px 3px 1px rgba(60, 64, 67, 0.15);\n",
       "    fill: var(--button-hover-fill-color);\n",
       "  }\n",
       "\n",
       "  .colab-df-quickchart-complete:disabled,\n",
       "  .colab-df-quickchart-complete:disabled:hover {\n",
       "    background-color: var(--disabled-bg-color);\n",
       "    fill: var(--disabled-fill-color);\n",
       "    box-shadow: none;\n",
       "  }\n",
       "\n",
       "  .colab-df-spinner {\n",
       "    border: 2px solid var(--fill-color);\n",
       "    border-color: transparent;\n",
       "    border-bottom-color: var(--fill-color);\n",
       "    animation:\n",
       "      spin 1s steps(1) infinite;\n",
       "  }\n",
       "\n",
       "  @keyframes spin {\n",
       "    0% {\n",
       "      border-color: transparent;\n",
       "      border-bottom-color: var(--fill-color);\n",
       "      border-left-color: var(--fill-color);\n",
       "    }\n",
       "    20% {\n",
       "      border-color: transparent;\n",
       "      border-left-color: var(--fill-color);\n",
       "      border-top-color: var(--fill-color);\n",
       "    }\n",
       "    30% {\n",
       "      border-color: transparent;\n",
       "      border-left-color: var(--fill-color);\n",
       "      border-top-color: var(--fill-color);\n",
       "      border-right-color: var(--fill-color);\n",
       "    }\n",
       "    40% {\n",
       "      border-color: transparent;\n",
       "      border-right-color: var(--fill-color);\n",
       "      border-top-color: var(--fill-color);\n",
       "    }\n",
       "    60% {\n",
       "      border-color: transparent;\n",
       "      border-right-color: var(--fill-color);\n",
       "    }\n",
       "    80% {\n",
       "      border-color: transparent;\n",
       "      border-right-color: var(--fill-color);\n",
       "      border-bottom-color: var(--fill-color);\n",
       "    }\n",
       "    90% {\n",
       "      border-color: transparent;\n",
       "      border-bottom-color: var(--fill-color);\n",
       "    }\n",
       "  }\n",
       "</style>\n",
       "\n",
       "  <script>\n",
       "    async function quickchart(key) {\n",
       "      const quickchartButtonEl =\n",
       "        document.querySelector('#' + key + ' button');\n",
       "      quickchartButtonEl.disabled = true;  // To prevent multiple clicks.\n",
       "      quickchartButtonEl.classList.add('colab-df-spinner');\n",
       "      try {\n",
       "        const charts = await google.colab.kernel.invokeFunction(\n",
       "            'suggestCharts', [key], {});\n",
       "      } catch (error) {\n",
       "        console.error('Error during call to suggestCharts:', error);\n",
       "      }\n",
       "      quickchartButtonEl.classList.remove('colab-df-spinner');\n",
       "      quickchartButtonEl.classList.add('colab-df-quickchart-complete');\n",
       "    }\n",
       "    (() => {\n",
       "      let quickchartButtonEl =\n",
       "        document.querySelector('#df-d350cd6f-040c-459c-a8a5-6c1eff9c2558 button');\n",
       "      quickchartButtonEl.style.display =\n",
       "        google.colab.kernel.accessAllowed ? 'block' : 'none';\n",
       "    })();\n",
       "  </script>\n",
       "</div>\n",
       "    </div>\n",
       "  </div>\n"
      ],
      "text/plain": [
       "          age       sex       bmi        bp        s1        s2        s3  \\\n",
       "108  0.019913  0.050680  0.045529  0.029894 -0.062111 -0.055802 -0.072854   \n",
       "225  0.030811  0.050680  0.032595  0.049415 -0.040096 -0.043589 -0.069172   \n",
       "412  0.074401 -0.044642  0.085408  0.063187  0.014942  0.013091  0.015505   \n",
       "\n",
       "           s4        s5        s6  \n",
       "108  0.026929  0.045604  0.040343  \n",
       "225  0.034309  0.063015  0.003064  \n",
       "412 -0.002592  0.006207  0.085907  "
      ]
     },
     "metadata": {},
     "output_type": "display_data"
    }
   ],
   "source": [
    "# посмотрим на индексы строк в переменной X_train\n",
    "X_train.head(3)"
   ]
  },
  {
   "cell_type": "code",
   "execution_count": null,
   "metadata": {},
   "outputs": [
    {
     "data": {
      "application/vnd.google.colaboratory.intrinsic+json": {
       "summary": "{\n  \"name\": \"y_train\",\n  \"rows\": 310,\n  \"fields\": [\n    {\n      \"column\": \"target\",\n      \"properties\": {\n        \"dtype\": \"number\",\n        \"std\": 78.53633891332838,\n        \"min\": 25.0,\n        \"max\": 346.0,\n        \"num_unique_values\": 193,\n        \"samples\": [\n          303.0,\n          263.0,\n          60.0\n        ],\n        \"semantic_type\": \"\",\n        \"description\": \"\"\n      }\n    }\n  ]\n}",
       "type": "dataframe",
       "variable_name": "y_train"
      },
      "text/html": [
       "\n",
       "  <div id=\"df-65923292-cade-4124-be04-c04110e25ae3\" class=\"colab-df-container\">\n",
       "    <div>\n",
       "<style scoped>\n",
       "    .dataframe tbody tr th:only-of-type {\n",
       "        vertical-align: middle;\n",
       "    }\n",
       "\n",
       "    .dataframe tbody tr th {\n",
       "        vertical-align: top;\n",
       "    }\n",
       "\n",
       "    .dataframe thead th {\n",
       "        text-align: right;\n",
       "    }\n",
       "</style>\n",
       "<table border=\"1\" class=\"dataframe\">\n",
       "  <thead>\n",
       "    <tr style=\"text-align: right;\">\n",
       "      <th></th>\n",
       "      <th>target</th>\n",
       "    </tr>\n",
       "  </thead>\n",
       "  <tbody>\n",
       "    <tr>\n",
       "      <th>108</th>\n",
       "      <td>232.0</td>\n",
       "    </tr>\n",
       "    <tr>\n",
       "      <th>225</th>\n",
       "      <td>208.0</td>\n",
       "    </tr>\n",
       "    <tr>\n",
       "      <th>412</th>\n",
       "      <td>261.0</td>\n",
       "    </tr>\n",
       "  </tbody>\n",
       "</table>\n",
       "</div>\n",
       "    <div class=\"colab-df-buttons\">\n",
       "\n",
       "  <div class=\"colab-df-container\">\n",
       "    <button class=\"colab-df-convert\" onclick=\"convertToInteractive('df-65923292-cade-4124-be04-c04110e25ae3')\"\n",
       "            title=\"Convert this dataframe to an interactive table.\"\n",
       "            style=\"display:none;\">\n",
       "\n",
       "  <svg xmlns=\"http://www.w3.org/2000/svg\" height=\"24px\" viewBox=\"0 -960 960 960\">\n",
       "    <path d=\"M120-120v-720h720v720H120Zm60-500h600v-160H180v160Zm220 220h160v-160H400v160Zm0 220h160v-160H400v160ZM180-400h160v-160H180v160Zm440 0h160v-160H620v160ZM180-180h160v-160H180v160Zm440 0h160v-160H620v160Z\"/>\n",
       "  </svg>\n",
       "    </button>\n",
       "\n",
       "  <style>\n",
       "    .colab-df-container {\n",
       "      display:flex;\n",
       "      gap: 12px;\n",
       "    }\n",
       "\n",
       "    .colab-df-convert {\n",
       "      background-color: #E8F0FE;\n",
       "      border: none;\n",
       "      border-radius: 50%;\n",
       "      cursor: pointer;\n",
       "      display: none;\n",
       "      fill: #1967D2;\n",
       "      height: 32px;\n",
       "      padding: 0 0 0 0;\n",
       "      width: 32px;\n",
       "    }\n",
       "\n",
       "    .colab-df-convert:hover {\n",
       "      background-color: #E2EBFA;\n",
       "      box-shadow: 0px 1px 2px rgba(60, 64, 67, 0.3), 0px 1px 3px 1px rgba(60, 64, 67, 0.15);\n",
       "      fill: #174EA6;\n",
       "    }\n",
       "\n",
       "    .colab-df-buttons div {\n",
       "      margin-bottom: 4px;\n",
       "    }\n",
       "\n",
       "    [theme=dark] .colab-df-convert {\n",
       "      background-color: #3B4455;\n",
       "      fill: #D2E3FC;\n",
       "    }\n",
       "\n",
       "    [theme=dark] .colab-df-convert:hover {\n",
       "      background-color: #434B5C;\n",
       "      box-shadow: 0px 1px 3px 1px rgba(0, 0, 0, 0.15);\n",
       "      filter: drop-shadow(0px 1px 2px rgba(0, 0, 0, 0.3));\n",
       "      fill: #FFFFFF;\n",
       "    }\n",
       "  </style>\n",
       "\n",
       "    <script>\n",
       "      const buttonEl =\n",
       "        document.querySelector('#df-65923292-cade-4124-be04-c04110e25ae3 button.colab-df-convert');\n",
       "      buttonEl.style.display =\n",
       "        google.colab.kernel.accessAllowed ? 'block' : 'none';\n",
       "\n",
       "      async function convertToInteractive(key) {\n",
       "        const element = document.querySelector('#df-65923292-cade-4124-be04-c04110e25ae3');\n",
       "        const dataTable =\n",
       "          await google.colab.kernel.invokeFunction('convertToInteractive',\n",
       "                                                    [key], {});\n",
       "        if (!dataTable) return;\n",
       "\n",
       "        const docLinkHtml = 'Like what you see? Visit the ' +\n",
       "          '<a target=\"_blank\" href=https://colab.research.google.com/notebooks/data_table.ipynb>data table notebook</a>'\n",
       "          + ' to learn more about interactive tables.';\n",
       "        element.innerHTML = '';\n",
       "        dataTable['output_type'] = 'display_data';\n",
       "        await google.colab.output.renderOutput(dataTable, element);\n",
       "        const docLink = document.createElement('div');\n",
       "        docLink.innerHTML = docLinkHtml;\n",
       "        element.appendChild(docLink);\n",
       "      }\n",
       "    </script>\n",
       "  </div>\n",
       "\n",
       "\n",
       "<div id=\"df-e5ec6122-c700-441a-b37e-5d7820037f34\">\n",
       "  <button class=\"colab-df-quickchart\" onclick=\"quickchart('df-e5ec6122-c700-441a-b37e-5d7820037f34')\"\n",
       "            title=\"Suggest charts\"\n",
       "            style=\"display:none;\">\n",
       "\n",
       "<svg xmlns=\"http://www.w3.org/2000/svg\" height=\"24px\"viewBox=\"0 0 24 24\"\n",
       "     width=\"24px\">\n",
       "    <g>\n",
       "        <path d=\"M19 3H5c-1.1 0-2 .9-2 2v14c0 1.1.9 2 2 2h14c1.1 0 2-.9 2-2V5c0-1.1-.9-2-2-2zM9 17H7v-7h2v7zm4 0h-2V7h2v10zm4 0h-2v-4h2v4z\"/>\n",
       "    </g>\n",
       "</svg>\n",
       "  </button>\n",
       "\n",
       "<style>\n",
       "  .colab-df-quickchart {\n",
       "      --bg-color: #E8F0FE;\n",
       "      --fill-color: #1967D2;\n",
       "      --hover-bg-color: #E2EBFA;\n",
       "      --hover-fill-color: #174EA6;\n",
       "      --disabled-fill-color: #AAA;\n",
       "      --disabled-bg-color: #DDD;\n",
       "  }\n",
       "\n",
       "  [theme=dark] .colab-df-quickchart {\n",
       "      --bg-color: #3B4455;\n",
       "      --fill-color: #D2E3FC;\n",
       "      --hover-bg-color: #434B5C;\n",
       "      --hover-fill-color: #FFFFFF;\n",
       "      --disabled-bg-color: #3B4455;\n",
       "      --disabled-fill-color: #666;\n",
       "  }\n",
       "\n",
       "  .colab-df-quickchart {\n",
       "    background-color: var(--bg-color);\n",
       "    border: none;\n",
       "    border-radius: 50%;\n",
       "    cursor: pointer;\n",
       "    display: none;\n",
       "    fill: var(--fill-color);\n",
       "    height: 32px;\n",
       "    padding: 0;\n",
       "    width: 32px;\n",
       "  }\n",
       "\n",
       "  .colab-df-quickchart:hover {\n",
       "    background-color: var(--hover-bg-color);\n",
       "    box-shadow: 0 1px 2px rgba(60, 64, 67, 0.3), 0 1px 3px 1px rgba(60, 64, 67, 0.15);\n",
       "    fill: var(--button-hover-fill-color);\n",
       "  }\n",
       "\n",
       "  .colab-df-quickchart-complete:disabled,\n",
       "  .colab-df-quickchart-complete:disabled:hover {\n",
       "    background-color: var(--disabled-bg-color);\n",
       "    fill: var(--disabled-fill-color);\n",
       "    box-shadow: none;\n",
       "  }\n",
       "\n",
       "  .colab-df-spinner {\n",
       "    border: 2px solid var(--fill-color);\n",
       "    border-color: transparent;\n",
       "    border-bottom-color: var(--fill-color);\n",
       "    animation:\n",
       "      spin 1s steps(1) infinite;\n",
       "  }\n",
       "\n",
       "  @keyframes spin {\n",
       "    0% {\n",
       "      border-color: transparent;\n",
       "      border-bottom-color: var(--fill-color);\n",
       "      border-left-color: var(--fill-color);\n",
       "    }\n",
       "    20% {\n",
       "      border-color: transparent;\n",
       "      border-left-color: var(--fill-color);\n",
       "      border-top-color: var(--fill-color);\n",
       "    }\n",
       "    30% {\n",
       "      border-color: transparent;\n",
       "      border-left-color: var(--fill-color);\n",
       "      border-top-color: var(--fill-color);\n",
       "      border-right-color: var(--fill-color);\n",
       "    }\n",
       "    40% {\n",
       "      border-color: transparent;\n",
       "      border-right-color: var(--fill-color);\n",
       "      border-top-color: var(--fill-color);\n",
       "    }\n",
       "    60% {\n",
       "      border-color: transparent;\n",
       "      border-right-color: var(--fill-color);\n",
       "    }\n",
       "    80% {\n",
       "      border-color: transparent;\n",
       "      border-right-color: var(--fill-color);\n",
       "      border-bottom-color: var(--fill-color);\n",
       "    }\n",
       "    90% {\n",
       "      border-color: transparent;\n",
       "      border-bottom-color: var(--fill-color);\n",
       "    }\n",
       "  }\n",
       "</style>\n",
       "\n",
       "  <script>\n",
       "    async function quickchart(key) {\n",
       "      const quickchartButtonEl =\n",
       "        document.querySelector('#' + key + ' button');\n",
       "      quickchartButtonEl.disabled = true;  // To prevent multiple clicks.\n",
       "      quickchartButtonEl.classList.add('colab-df-spinner');\n",
       "      try {\n",
       "        const charts = await google.colab.kernel.invokeFunction(\n",
       "            'suggestCharts', [key], {});\n",
       "      } catch (error) {\n",
       "        console.error('Error during call to suggestCharts:', error);\n",
       "      }\n",
       "      quickchartButtonEl.classList.remove('colab-df-spinner');\n",
       "      quickchartButtonEl.classList.add('colab-df-quickchart-complete');\n",
       "    }\n",
       "    (() => {\n",
       "      let quickchartButtonEl =\n",
       "        document.querySelector('#df-e5ec6122-c700-441a-b37e-5d7820037f34 button');\n",
       "      quickchartButtonEl.style.display =\n",
       "        google.colab.kernel.accessAllowed ? 'block' : 'none';\n",
       "    })();\n",
       "  </script>\n",
       "</div>\n",
       "    </div>\n",
       "  </div>\n"
      ],
      "text/plain": [
       "     target\n",
       "108   232.0\n",
       "225   208.0\n",
       "412   261.0"
      ]
     },
     "metadata": {},
     "output_type": "display_data"
    }
   ],
   "source": [
    "# теперь посмотрим на y_train\n",
    "y_train.head(3)"
   ]
  },
  {
   "cell_type": "markdown",
   "metadata": {},
   "source": [
    "#### Модуль itertools"
   ]
  },
  {
   "cell_type": "markdown",
   "metadata": {},
   "source": [
    "##### Перестановки"
   ]
  },
  {
   "cell_type": "markdown",
   "metadata": {},
   "source": [
    "###### Перестановки без замены"
   ]
  },
  {
   "cell_type": "markdown",
   "metadata": {},
   "source": [
    "1. Перестановки без повторений"
   ]
  },
  {
   "cell_type": "code",
   "execution_count": null,
   "metadata": {},
   "outputs": [
    {
     "data": {
      "text/plain": [
       "6"
      ]
     },
     "metadata": {},
     "output_type": "display_data"
    }
   ],
   "source": [
    "# импортируем модуль math\n",
    "import math\n",
    "\n",
    "# передадим функции factorial() число 3\n",
    "math.factorial(3)"
   ]
  },
  {
   "cell_type": "code",
   "execution_count": null,
   "metadata": {},
   "outputs": [
    {
     "data": {
      "text/plain": [
       "[('A', 'B', 'C'),\n",
       " ('A', 'C', 'B'),\n",
       " ('B', 'A', 'C'),\n",
       " ('B', 'C', 'A'),\n",
       " ('C', 'A', 'B'),\n",
       " ('C', 'B', 'A')]"
      ]
     },
     "metadata": {},
     "output_type": "display_data"
    }
   ],
   "source": [
    "# импортируем модуль itertools\n",
    "import itertools\n",
    "\n",
    "# создадим строку из букв A, B, C\n",
    "x = 'ABC'\n",
    "# помимо строки можно использовать и список\n",
    "# x = ['A', 'B', 'C']\n",
    "\n",
    "# и передадим ее в функцию permutations()\n",
    "# так как функция возвращает объект itertools.permutations,\n",
    "# для вывода результата используем функцию list()\n",
    "list(itertools.permutations(x))"
   ]
  },
  {
   "cell_type": "code",
   "execution_count": null,
   "metadata": {},
   "outputs": [
    {
     "data": {
      "text/plain": [
       "6"
      ]
     },
     "metadata": {},
     "output_type": "display_data"
    }
   ],
   "source": [
    "# чтобы узнать количество перестановок, можно использовать функцию len()\n",
    "len(list(itertools.permutations(x)))"
   ]
  },
  {
   "cell_type": "code",
   "execution_count": null,
   "metadata": {},
   "outputs": [
    {
     "data": {
      "text/plain": [
       "[('A', 'B', 'C'),\n",
       " ('A', 'B', 'D'),\n",
       " ('A', 'B', 'E'),\n",
       " ('A', 'B', 'F'),\n",
       " ('A', 'C', 'B')]"
      ]
     },
     "metadata": {},
     "output_type": "display_data"
    }
   ],
   "source": [
    "# теперь элементов исходного множества шесть\n",
    "x = 'ABCDEF'\n",
    "\n",
    "# чтобы узнать, сколькими способами их можно разместить на трех местах,\n",
    "# передадим параметр r = 3 и выведем первые пять элементов\n",
    "list(itertools.permutations(x, r = 3))[:5]"
   ]
  },
  {
   "cell_type": "code",
   "execution_count": null,
   "metadata": {},
   "outputs": [
    {
     "data": {
      "text/plain": [
       "120"
      ]
     },
     "metadata": {},
     "output_type": "display_data"
    }
   ],
   "source": [
    "# посмотрим на общее количество таких перестановок\n",
    "len(list(itertools.permutations(x, r = 3)))"
   ]
  },
  {
   "cell_type": "markdown",
   "metadata": {},
   "source": [
    "2. Перестановки с повторениями"
   ]
  },
  {
   "cell_type": "code",
   "execution_count": null,
   "metadata": {},
   "outputs": [],
   "source": [
    "# импортируем необходимые библиотеки\n",
    "import itertools\n",
    "import numpy as np\n",
    "import math\n",
    "\n",
    "# объявим функцию permutations_w_repetition(), которая будет принимать два параметра\n",
    "# x - строка, список или массив Numpy\n",
    "# r - количество мест в перестановке, по умолчанию равно количеству элементов в x\n",
    "def permutations_w_repetition(x, r = len(x)):\n",
    "\n",
    "  # если передается строка,\n",
    "  if isinstance(x, str):\n",
    "    # превращаем ее в список\n",
    "    x = list(x)\n",
    "\n",
    "  # в числителе рассчитаем количество перестановок без повторений\n",
    "  numerator = len(list(itertools.permutations(x, r = r)))\n",
    "\n",
    "  # для того чтобы рассчитать знаменатель найдем,\n",
    "  # сколько раз повторяется каждый из элементов\n",
    "  _, counts = np.unique(x, return_counts = True)\n",
    "\n",
    "  # объявим переменную для знаменателя\n",
    "  denominator = 1\n",
    "\n",
    "  # и в цикле будем помещать туда произведение факториалов\n",
    "  # повторяющихся элементов\n",
    "  for c in counts:\n",
    "\n",
    "      # для этого проверим повторяется ли элемент\n",
    "      if c > 1:\n",
    "\n",
    "        # и если да, умножим знаменатель на факториал повторяющегося элемента\n",
    "        denominator *= math.factorial(c)\n",
    "\n",
    "  # разделим числитель на знаменатель\n",
    "  # деление дает тип float, поэтому используем функцию int(),\n",
    "  # чтобы результат был целым числом\n",
    "  return int(numerator/denominator)"
   ]
  },
  {
   "cell_type": "code",
   "execution_count": null,
   "metadata": {},
   "outputs": [
    {
     "data": {
      "text/plain": [
       "120"
      ]
     },
     "metadata": {},
     "output_type": "display_data"
    }
   ],
   "source": [
    "# создадим строку со словом \"молоко\"\n",
    "x = 'МОЛОКО'\n",
    "\n",
    "# вызовем функцию\n",
    "permutations_w_repetition(x)"
   ]
  },
  {
   "cell_type": "markdown",
   "metadata": {},
   "source": [
    "###### Перестановки с заменой"
   ]
  },
  {
   "cell_type": "code",
   "execution_count": null,
   "metadata": {},
   "outputs": [
    {
     "data": {
      "text/plain": [
       "[('Ваниль', 'Ваниль'),\n",
       " ('Ваниль', 'Клубника'),\n",
       " ('Клубника', 'Ваниль'),\n",
       " ('Клубника', 'Клубника')]"
      ]
     },
     "metadata": {},
     "output_type": "display_data"
    }
   ],
   "source": [
    "# посмотрим, сколькими способами можно выбрать два сорта мороженого\n",
    "list(itertools.product(['Ваниль', 'Клубника'], repeat = 2))"
   ]
  },
  {
   "cell_type": "code",
   "execution_count": null,
   "metadata": {},
   "outputs": [
    {
     "data": {
      "text/plain": [
       "[('A', 'A'),\n",
       " ('A', 'B'),\n",
       " ('A', 'C'),\n",
       " ('A', 'D'),\n",
       " ('B', 'A'),\n",
       " ('B', 'B'),\n",
       " ('B', 'C'),\n",
       " ('B', 'D'),\n",
       " ('C', 'A'),\n",
       " ('C', 'B'),\n",
       " ('C', 'C'),\n",
       " ('C', 'D'),\n",
       " ('D', 'A'),\n",
       " ('D', 'B'),\n",
       " ('D', 'C'),\n",
       " ('D', 'D')]"
      ]
     },
     "metadata": {},
     "output_type": "display_data"
    }
   ],
   "source": [
    "# посмотрим на способы переставить с заменой два элемента из четырех\n",
    "list(itertools.product('ABCD', repeat = 2))"
   ]
  },
  {
   "cell_type": "code",
   "execution_count": null,
   "metadata": {},
   "outputs": [
    {
     "data": {
      "text/plain": [
       "16"
      ]
     },
     "metadata": {},
     "output_type": "display_data"
    }
   ],
   "source": [
    "# убедимся, что таких способов 16\n",
    "len(list(itertools.product('ABCD', repeat = 2)))"
   ]
  },
  {
   "cell_type": "markdown",
   "metadata": {},
   "source": [
    "##### Сочетания"
   ]
  },
  {
   "cell_type": "code",
   "execution_count": null,
   "metadata": {},
   "outputs": [
    {
     "data": {
      "text/plain": [
       "[('A', 'B'),\n",
       " ('A', 'C'),\n",
       " ('A', 'D'),\n",
       " ('A', 'E'),\n",
       " ('B', 'A'),\n",
       " ('B', 'C'),\n",
       " ('B', 'D'),\n",
       " ('B', 'E'),\n",
       " ('C', 'A'),\n",
       " ('C', 'B'),\n",
       " ('C', 'D'),\n",
       " ('C', 'E'),\n",
       " ('D', 'A'),\n",
       " ('D', 'B'),\n",
       " ('D', 'C'),\n",
       " ('D', 'E'),\n",
       " ('E', 'A'),\n",
       " ('E', 'B'),\n",
       " ('E', 'C'),\n",
       " ('E', 'D')]"
      ]
     },
     "metadata": {},
     "output_type": "display_data"
    }
   ],
   "source": [
    "# возьмем пять элементов\n",
    "x = 'ABCDE'\n",
    "\n",
    "# и найдем способ переставить два элемента из этих пяти\n",
    "list(itertools.permutations(x, r = 2))"
   ]
  },
  {
   "cell_type": "code",
   "execution_count": null,
   "metadata": {},
   "outputs": [
    {
     "data": {
      "text/plain": [
       "10"
      ]
     },
     "metadata": {},
     "output_type": "display_data"
    }
   ],
   "source": [
    "# уменьшим на количество перестановок каждого типа r!\n",
    "int(len(list(itertools.permutations(x, r = 2)))/math.factorial(2))"
   ]
  },
  {
   "cell_type": "code",
   "execution_count": null,
   "metadata": {},
   "outputs": [
    {
     "data": {
      "text/plain": [
       "[('A', 'B'),\n",
       " ('A', 'C'),\n",
       " ('A', 'D'),\n",
       " ('A', 'E'),\n",
       " ('B', 'C'),\n",
       " ('B', 'D'),\n",
       " ('B', 'E'),\n",
       " ('C', 'D'),\n",
       " ('C', 'E'),\n",
       " ('D', 'E')]"
      ]
     },
     "metadata": {},
     "output_type": "display_data"
    }
   ],
   "source": [
    "# то же самое можно рассчитать с помощью функции combinations()\n",
    "list(itertools.combinations(x, 2))"
   ]
  },
  {
   "cell_type": "code",
   "execution_count": null,
   "metadata": {},
   "outputs": [
    {
     "data": {
      "text/plain": [
       "10"
      ]
     },
     "metadata": {},
     "output_type": "display_data"
    }
   ],
   "source": [
    "# посмотрим на количество сочетаний\n",
    "len(list(itertools.combinations(x, 2)))"
   ]
  },
  {
   "cell_type": "markdown",
   "metadata": {},
   "source": [
    "Сочетания с заменой"
   ]
  },
  {
   "cell_type": "code",
   "execution_count": null,
   "metadata": {},
   "outputs": [
    {
     "data": {
      "text/plain": [
       "[('A', 'A'), ('A', 'B'), ('B', 'B')]"
      ]
     },
     "metadata": {},
     "output_type": "display_data"
    }
   ],
   "source": [
    "# сколькими способами с заменой можно выбрать два элемента из двух\n",
    "list(itertools.combinations_with_replacement('AB', 2))"
   ]
  },
  {
   "cell_type": "code",
   "execution_count": null,
   "metadata": {},
   "outputs": [
    {
     "data": {
      "text/plain": [
       "[('A', 'B')]"
      ]
     },
     "metadata": {},
     "output_type": "display_data"
    }
   ],
   "source": [
    "# очевидно, что без замены есть только один такой способ\n",
    "list(itertools.combinations('AB', 2))"
   ]
  },
  {
   "cell_type": "markdown",
   "metadata": {},
   "source": [
    "Биномиальные коэффициенты"
   ]
  },
  {
   "cell_type": "code",
   "execution_count": null,
   "metadata": {},
   "outputs": [
    {
     "data": {
      "text/plain": [
       "[('H', 'H', 'H'),\n",
       " ('H', 'H', 'T'),\n",
       " ('H', 'T', 'H'),\n",
       " ('H', 'T', 'T'),\n",
       " ('T', 'H', 'H'),\n",
       " ('T', 'H', 'T'),\n",
       " ('T', 'T', 'H'),\n",
       " ('T', 'T', 'T')]"
      ]
     },
     "metadata": {},
     "output_type": "display_data"
    }
   ],
   "source": [
    "# дерево вероятностей можно построить с помощью декартовой степени\n",
    "list(itertools.product('HT', repeat = 3))"
   ]
  },
  {
   "cell_type": "code",
   "execution_count": null,
   "metadata": {},
   "outputs": [
    {
     "data": {
      "text/plain": [
       "3"
      ]
     },
     "metadata": {},
     "output_type": "display_data"
    }
   ],
   "source": [
    "# посмотрим, в скольких комбинациях выпадет две решки при трех бросках\n",
    "comb = len(list(itertools.combinations('ABC', 2)))\n",
    "comb"
   ]
  },
  {
   "cell_type": "code",
   "execution_count": null,
   "metadata": {},
   "outputs": [
    {
     "data": {
      "text/plain": [
       "0.441"
      ]
     },
     "metadata": {},
     "output_type": "display_data"
    }
   ],
   "source": [
    "# вычислим вероятность выпадения двух орлов в трех бросках\n",
    "# при вероятности выпадения орла 0,7\n",
    "round(comb * (0.7 ** 2 * (1 - 0.7)** (3 - 2)), 3)"
   ]
  },
  {
   "cell_type": "code",
   "execution_count": null,
   "metadata": {},
   "outputs": [
    {
     "data": {
      "text/plain": [
       "0.441"
      ]
     },
     "metadata": {},
     "output_type": "display_data"
    }
   ],
   "source": [
    "from scipy.stats import binom\n",
    "\n",
    "# то же самое можно вычислить с помощью функции вероятности (probability mass function, pmf)\n",
    "# биномиального распределения библиотеки scipy\n",
    "binom.pmf(k = 2, n = 3, p = 0.7).round(3)"
   ]
  },
  {
   "cell_type": "markdown",
   "metadata": {},
   "source": [
    "### Дополнительные примеры"
   ]
  },
  {
   "cell_type": "markdown",
   "metadata": {},
   "source": [
    "#### Матожадание и среднеее значение"
   ]
  },
  {
   "cell_type": "markdown",
   "metadata": {},
   "source": [
    "Математическое ожидание"
   ]
  },
  {
   "cell_type": "code",
   "execution_count": null,
   "metadata": {},
   "outputs": [
    {
     "data": {
      "text/plain": [
       "(array(2.1), array(0.63))"
      ]
     },
     "metadata": {},
     "output_type": "display_data"
    }
   ],
   "source": [
    "# с помощью библиотеки scipy\n",
    "from scipy.stats import binom\n",
    "\n",
    "# для биномиального распределения со следующими параметрами\n",
    "n, p = 3, 0.7\n",
    "\n",
    "# рассчитаем матожидание и ожидаемую дисперсию\n",
    "expected_value, variance = binom.stats(n, p, moments='mv')\n",
    "expected_value, variance"
   ]
  },
  {
   "cell_type": "markdown",
   "metadata": {},
   "source": [
    "Фактическое среднее значение"
   ]
  },
  {
   "cell_type": "code",
   "execution_count": null,
   "metadata": {},
   "outputs": [
    {
     "data": {
      "text/plain": [
       "(2.100117, 0.6288295863109998)"
      ]
     },
     "metadata": {},
     "output_type": "display_data"
    }
   ],
   "source": [
    "# теперь с помощью модуля random\n",
    "import numpy as np\n",
    "\n",
    "# проведем миллион биномиальных экспрериментов\n",
    "res = np.random.binomial(n = 3, p = 0.7, size = 1000000)\n",
    "\n",
    "# и посмотрим на фактическое среднее значение и фактическую дисперсию\n",
    "np.mean(res), np.var(res)"
   ]
  },
  {
   "cell_type": "code",
   "execution_count": null,
   "metadata": {},
   "outputs": [],
   "source": []
  }
 ],
 "metadata": {
  "language_info": {
   "name": "python"
  }
 },
 "nbformat": 4,
 "nbformat_minor": 2
}
